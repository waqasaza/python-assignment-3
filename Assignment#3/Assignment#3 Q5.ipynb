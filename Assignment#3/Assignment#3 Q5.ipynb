{
 "cells": [
  {
   "cell_type": "code",
   "execution_count": 1,
   "id": "ded443a9",
   "metadata": {},
   "outputs": [
    {
     "name": "stdout",
     "output_type": "stream",
     "text": [
      "Enter the first name:Usman\n",
      "Enter the last name:Ahmed\n",
      "AhmedUsman\n"
     ]
    }
   ],
   "source": [
    "# Q5\n",
    "firstname = input(\"Enter the first name:\");\n",
    "lastname = input(\"Enter the last name:\");\n",
    "print(lastname+firstname);"
   ]
  },
  {
   "cell_type": "code",
   "execution_count": null,
   "id": "bd1b62ea",
   "metadata": {},
   "outputs": [],
   "source": []
  }
 ],
 "metadata": {
  "kernelspec": {
   "display_name": "Python 3",
   "language": "python",
   "name": "python3"
  },
  "language_info": {
   "codemirror_mode": {
    "name": "ipython",
    "version": 3
   },
   "file_extension": ".py",
   "mimetype": "text/x-python",
   "name": "python",
   "nbconvert_exporter": "python",
   "pygments_lexer": "ipython3",
   "version": "3.8.8"
  }
 },
 "nbformat": 4,
 "nbformat_minor": 5
}
