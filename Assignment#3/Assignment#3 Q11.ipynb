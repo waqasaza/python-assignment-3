{
 "cells": [
  {
   "cell_type": "code",
   "execution_count": 9,
   "id": "b12c4230",
   "metadata": {},
   "outputs": [
    {
     "name": "stdout",
     "output_type": "stream",
     "text": [
      "number less than 5 [1, 2, 3, 4, 5, 6, 7, 8, 9, 10]\n"
     ]
    }
   ],
   "source": [
    "# Q12\n",
    "arr = [1,2,3,4,5,6,7,8,9,10]\n",
    "for i in arr:\n",
    "    if i <5"
   ]
  },
  {
   "cell_type": "code",
   "execution_count": null,
   "id": "7527b7e8",
   "metadata": {},
   "outputs": [],
   "source": []
  }
 ],
 "metadata": {
  "kernelspec": {
   "display_name": "Python 3",
   "language": "python",
   "name": "python3"
  },
  "language_info": {
   "codemirror_mode": {
    "name": "ipython",
    "version": 3
   },
   "file_extension": ".py",
   "mimetype": "text/x-python",
   "name": "python",
   "nbconvert_exporter": "python",
   "pygments_lexer": "ipython3",
   "version": "3.8.8"
  }
 },
 "nbformat": 4,
 "nbformat_minor": 5
}
