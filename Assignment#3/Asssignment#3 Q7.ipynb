{
 "cells": [
  {
   "cell_type": "code",
   "execution_count": 4,
   "id": "a91547a5",
   "metadata": {},
   "outputs": [
    {
     "name": "stdout",
     "output_type": "stream",
     "text": [
      "Enter the marks of english55\n",
      "Enter the marks of english65\n",
      "Enter the marks of english88\n",
      "Enter the marks of english77\n",
      "Enter the marks of english59\n",
      "Grade A\n"
     ]
    }
   ],
   "source": [
    "#Q7\n",
    "english = int(input(\"Enter the marks of english\"))\n",
    "islamiat= int(input(\"Enter the marks of english\"))\n",
    "mathematics = int(input(\"Enter the marks of english\"))\n",
    "science = int(input(\"Enter the marks of english\"))\n",
    "urdu = int(input(\"Enter the marks of english\"))\n",
    "a=80;b=70;c=60;d=80;e=90;\n",
    "totalmarks=850;\n",
    "avg=(a+b+c+d+e/totalmarks)*100;\n",
    "percent=70;\n",
    "if percent < 100 and percent >=70:\n",
    "    print(\"Grade A\");\n",
    "elif percent < 70 and percent >=60:\n",
    "    print(\"Grade B\");\n",
    "elif percent < 60 and percent >=50:\n",
    "    print(\"Grade D\");\n",
    "else:\n",
    "    print(\"Fail\")    "
   ]
  },
  {
   "cell_type": "code",
   "execution_count": null,
   "id": "fd05ad7f",
   "metadata": {},
   "outputs": [],
   "source": []
  }
 ],
 "metadata": {
  "kernelspec": {
   "display_name": "Python 3",
   "language": "python",
   "name": "python3"
  },
  "language_info": {
   "codemirror_mode": {
    "name": "ipython",
    "version": 3
   },
   "file_extension": ".py",
   "mimetype": "text/x-python",
   "name": "python",
   "nbconvert_exporter": "python",
   "pygments_lexer": "ipython3",
   "version": "3.8.8"
  }
 },
 "nbformat": 4,
 "nbformat_minor": 5
}
